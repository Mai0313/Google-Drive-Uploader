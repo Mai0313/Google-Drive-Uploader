{
 "cells": [
  {
   "cell_type": "markdown",
   "metadata": {},
   "source": [
    "## How to Upload"
   ]
  },
  {
   "cell_type": "markdown",
   "metadata": {},
   "source": [
    "#### Upload files to the Google Drive"
   ]
  },
  {
   "cell_type": "code",
   "execution_count": null,
   "metadata": {},
   "outputs": [],
   "source": [
    "import os\n",
    "from src.upload import upload_file, clean_backup\n",
    "\n",
    "if __name__ == \"__main__\":\n",
    "    filenames = [\n",
    "        os.path.abspath(os.path.join(\"backup\", f)) for f in os.listdir(\"backup\")\n",
    "    ]\n",
    "    upload_file(filenames, [\"1G0RQ9TOrV5BGvn7kzMcdAwqDxtHGq3lm\"])\n",
    "    clean_backup(filenames)"
   ]
  },
  {
   "cell_type": "markdown",
   "metadata": {},
   "source": [
    "Output:\n",
    "```bash\n",
    "Uploading c:\\Users\\aaa11\\Desktop\\upload\\backup\\.gitignore to Google Drive\n",
    "Uploading c:\\Users\\aaa11\\Desktop\\upload\\backup\\2023-06-30.tar.gz to Google Drive\n",
    "Uploading c:\\Users\\aaa11\\Desktop\\upload\\backup\\2023-07-02.tar.gz to Google Drive\n",
    "Uploading c:\\Users\\aaa11\\Desktop\\upload\\backup\\2023-07-03.tar.gz to Google Drive\n",
    "Uploading c:\\Users\\aaa11\\Desktop\\upload\\backup\\2023-07-07.tar.gz to Google Drive\n",
    "Uploading c:\\Users\\aaa11\\Desktop\\upload\\backup\\2023-07-08.tar.gz to Google Drive\n",
    "Uploading c:\\Users\\aaa11\\Desktop\\upload\\backup\\2023-07-09.tar.gz to Google Drive\n",
    "Uploading c:\\Users\\aaa11\\Desktop\\upload\\backup\\2023-07-16.tar.gz to Google Drive\n",
    "Uploading c:\\Users\\aaa11\\Desktop\\upload\\backup\\2023-07-17.tar.gz to Google Drive\n",
    "Uploading c:\\Users\\aaa11\\Desktop\\upload\\backup\\2023-07-19.tar.gz to Google Drive\n",
    "Uploading c:\\Users\\aaa11\\Desktop\\upload\\backup\\2023-07-20.tar.gz to Google Drive\n",
    "Uploading c:\\Users\\aaa11\\Desktop\\upload\\backup\\2023-07-21.tar.gz to Google Drive\n",
    "```"
   ]
  },
  {
   "cell_type": "markdown",
   "metadata": {},
   "source": [
    "#### Create a Folder in Google Drive"
   ]
  },
  {
   "cell_type": "code",
   "execution_count": null,
   "metadata": {},
   "outputs": [],
   "source": [
    "from src.upload import create_folder\n",
    "folder_id = create_folder(foldername=\"CSGO_Demo_Backup_1\")\n",
    "print(folder_id)"
   ]
  },
  {
   "cell_type": "markdown",
   "metadata": {},
   "source": [
    "Output:\n",
    "```\n",
    "Creating the folder named CSGO_Demo_Backup_1 on Google Drive\n",
    "1hXiVi8iRwc-ZDjYT-E_t-vv-8CxU9hG-\n",
    "```"
   ]
  },
  {
   "cell_type": "markdown",
   "metadata": {},
   "source": [
    "#### Create a Folder then upload files to the folder you just created in Google Drive"
   ]
  },
  {
   "cell_type": "code",
   "execution_count": null,
   "metadata": {},
   "outputs": [],
   "source": [
    "import os\n",
    "from src.upload import upload_file, create_folder\n",
    "\n",
    "filenames = [\n",
    "    os.path.abspath(os.path.join(\"backup\", f)) for f in os.listdir(\"backup\")\n",
    "]\n",
    "\n",
    "folder_id = create_folder(foldername=\"CSGO_Demo_Backup\")\n",
    "upload_file(filenames, [folder_id])"
   ]
  },
  {
   "cell_type": "markdown",
   "metadata": {},
   "source": [
    "Output:\n",
    "```bash\n",
    "Creating the folder named CSGO_Demo_Backup on Google Drive\n",
    "Uploading c:\\Users\\aaa11\\Desktop\\upload\\backup\\.gitignore to Google Drive\n",
    "Uploading c:\\Users\\aaa11\\Desktop\\upload\\backup\\2023-06-30.tar.gz to Google Drive\n",
    "Uploading c:\\Users\\aaa11\\Desktop\\upload\\backup\\2023-07-02.tar.gz to Google Drive\n",
    "Uploading c:\\Users\\aaa11\\Desktop\\upload\\backup\\2023-07-03.tar.gz to Google Drive\n",
    "Uploading c:\\Users\\aaa11\\Desktop\\upload\\backup\\2023-07-07.tar.gz to Google Drive\n",
    "Uploading c:\\Users\\aaa11\\Desktop\\upload\\backup\\2023-07-08.tar.gz to Google Drive\n",
    "Uploading c:\\Users\\aaa11\\Desktop\\upload\\backup\\2023-07-09.tar.gz to Google Drive\n",
    "Uploading c:\\Users\\aaa11\\Desktop\\upload\\backup\\2023-07-16.tar.gz to Google Drive\n",
    "Uploading c:\\Users\\aaa11\\Desktop\\upload\\backup\\2023-07-17.tar.gz to Google Drive\n",
    "Uploading c:\\Users\\aaa11\\Desktop\\upload\\backup\\2023-07-19.tar.gz to Google Drive\n",
    "Uploading c:\\Users\\aaa11\\Desktop\\upload\\backup\\2023-07-20.tar.gz to Google Drive\n",
    "Uploading c:\\Users\\aaa11\\Desktop\\upload\\backup\\2023-07-21.tar.gz to Google Drive\n",
    "```"
   ]
  },
  {
   "cell_type": "markdown",
   "metadata": {},
   "source": [
    "#### Now Search the Folder you just created"
   ]
  },
  {
   "cell_type": "code",
   "execution_count": null,
   "metadata": {},
   "outputs": [],
   "source": [
    "import src\n",
    "\n",
    "src.search_folder(\"CSGO_Demo_Backup\")"
   ]
  },
  {
   "cell_type": "markdown",
   "metadata": {},
   "source": [
    "Output:\n",
    "```bash\n",
    "Found file: CSGO_Demo_Backup, 15338D_BolpeTKbN_GaQ2ciOajV4nZRWz\n",
    "[{'id': '15338D_BolpeTKbN_GaQ2ciOajV4nZRWz', 'name': 'CSGO_Demo_Backup'}]\n",
    "```"
   ]
  },
  {
   "cell_type": "markdown",
   "metadata": {},
   "source": [
    "#### Now search the files"
   ]
  },
  {
   "cell_type": "code",
   "execution_count": null,
   "metadata": {},
   "outputs": [],
   "source": [
    "from src.search import search_files\n",
    "\n",
    "src.search_files(\"nails.rar\")"
   ]
  },
  {
   "cell_type": "markdown",
   "metadata": {},
   "source": [
    "Output:\n",
    "```bash\n",
    "Found file: nails.rar, 1go4rICw0C_BV8jZE2WYQooH-2Hgae9V_\n",
    "[{'id': '1go4rICw0C_BV8jZE2WYQooH-2Hgae9V_', 'name': 'nails.rar'}]\n",
    "```"
   ]
  },
  {
   "cell_type": "markdown",
   "metadata": {},
   "source": [
    "So far, You may notice that `search_files` are doing the same thing as `search_folder` but scan all the files in the drive."
   ]
  },
  {
   "cell_type": "markdown",
   "metadata": {},
   "source": [
    "#### Download the file"
   ]
  }
 ],
 "metadata": {
  "kernelspec": {
   "display_name": "base",
   "language": "python",
   "name": "python3"
  },
  "language_info": {
   "codemirror_mode": {
    "name": "ipython",
    "version": 3
   },
   "file_extension": ".py",
   "mimetype": "text/x-python",
   "name": "python",
   "nbconvert_exporter": "python",
   "pygments_lexer": "ipython3",
   "version": "3.9.15"
  }
 },
 "nbformat": 4,
 "nbformat_minor": 2
}
